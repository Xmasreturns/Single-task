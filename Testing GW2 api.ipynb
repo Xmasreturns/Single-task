{
 "cells": [
  {
   "cell_type": "code",
   "execution_count": 1,
   "metadata": {
    "collapsed": false
   },
   "outputs": [
    {
     "name": "stdout",
     "output_type": "stream",
     "text": [
      "event names 2558\n"
     ]
    },
    {
     "data": {
      "text/plain": [
       "'\\n# Turn it into a dict\\nevent_name_lookup = dict((e[\\'id\\'], e[\\'name\\']) for e in event_names)\\n\\n# Get a random event, find out it\\'s name, and add it to the event\\nevent = random.choice(events)\\nevent[\\'event_name\\'] = event_name_lookup.get(event[\\'event_id\\'], None)\\nprint(\"event\", event)\\n\\n# Get the list of matches\\nmatches = api.matches.get()\\nprint(\"matches\", len(matches))\\n\\n# Get the details for a random match\\nmatch_details = api.match_details.get(random.choice(matches)[\\'wvw_match_id\\'])\\nprint(\"match details\", match_details)\\n\\napi = GuildWars2API(api_version=\"v2\")\\n\\n# Get the details of a tasks on a map using the continent_id, floor_id, region_id, map_id and task_id\\ntasks = api.continents.floors.regions.maps.tasks.get(1, 1, 1, 26, 554)\\n'"
      ]
     },
     "execution_count": 1,
     "metadata": {},
     "output_type": "execute_result"
    }
   ],
   "source": [
    "import random\n",
    "from guildwars2api.client import GuildWars2API\n",
    "\n",
    "api = GuildWars2API(api_version=\"v1\")\n",
    "\n",
    "# Get the list of event names\n",
    "event_names = api.event_names.get(lang=\"en\")\n",
    "print(\"event names\", len(event_names))\n",
    "\n",
    "'''\n",
    "# Turn it into a dict\n",
    "event_name_lookup = dict((e['id'], e['name']) for e in event_names)\n",
    "\n",
    "# Get a random event, find out it's name, and add it to the event\n",
    "event = random.choice(events)\n",
    "event['event_name'] = event_name_lookup.get(event['event_id'], None)\n",
    "print(\"event\", event)\n",
    "\n",
    "# Get the list of matches\n",
    "matches = api.matches.get()\n",
    "print(\"matches\", len(matches))\n",
    "\n",
    "# Get the details for a random match\n",
    "match_details = api.match_details.get(random.choice(matches)['wvw_match_id'])\n",
    "print(\"match details\", match_details)\n",
    "\n",
    "api = GuildWars2API(api_version=\"v2\")\n",
    "\n",
    "# Get the details of a tasks on a map using the continent_id, floor_id, region_id, map_id and task_id\n",
    "tasks = api.continents.floors.regions.maps.tasks.get(1, 1, 1, 26, 554)\n",
    "'''"
   ]
  },
  {
   "cell_type": "code",
   "execution_count": null,
   "metadata": {
    "collapsed": true
   },
   "outputs": [],
   "source": []
  }
 ],
 "metadata": {
  "kernelspec": {
   "display_name": "Python 3",
   "language": "python",
   "name": "python3"
  },
  "language_info": {
   "codemirror_mode": {
    "name": "ipython",
    "version": 3
   },
   "file_extension": ".py",
   "mimetype": "text/x-python",
   "name": "python",
   "nbconvert_exporter": "python",
   "pygments_lexer": "ipython3",
   "version": "3.4.4"
  }
 },
 "nbformat": 4,
 "nbformat_minor": 0
}
