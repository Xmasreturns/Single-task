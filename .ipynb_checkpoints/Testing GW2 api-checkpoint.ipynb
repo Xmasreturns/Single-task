{
 "cells": [
  {
   "cell_type": "code",
   "execution_count": 11,
   "metadata": {
    "collapsed": false
   },
   "outputs": [
    {
     "ename": "NameError",
     "evalue": "name 'v1' is not defined",
     "output_type": "error",
     "traceback": [
      "\u001b[1;31m---------------------------------------------------------------------------\u001b[0m",
      "\u001b[1;31mNameError\u001b[0m                                 Traceback (most recent call last)",
      "\u001b[1;32m<ipython-input-11-0a8e9d49285d>\u001b[0m in \u001b[0;36m<module>\u001b[1;34m()\u001b[0m\n\u001b[0;32m      2\u001b[0m \u001b[1;32mfrom\u001b[0m \u001b[0mguildwars2api\u001b[0m\u001b[1;33m.\u001b[0m\u001b[0mclient\u001b[0m \u001b[1;32mimport\u001b[0m \u001b[0mGuildWars2API\u001b[0m\u001b[1;33m\u001b[0m\u001b[0m\n\u001b[0;32m      3\u001b[0m \u001b[1;33m\u001b[0m\u001b[0m\n\u001b[1;32m----> 4\u001b[1;33m \u001b[0mapi\u001b[0m \u001b[1;33m=\u001b[0m \u001b[0mGuildWars2API\u001b[0m\u001b[1;33m(\u001b[0m\u001b[0mapi_version\u001b[0m\u001b[1;33m=\u001b[0m\u001b[0mv1\u001b[0m\u001b[1;33m)\u001b[0m\u001b[1;33m\u001b[0m\u001b[0m\n\u001b[0m\u001b[0;32m      5\u001b[0m \u001b[1;33m\u001b[0m\u001b[0m\n\u001b[0;32m      6\u001b[0m \u001b[1;31m# Get the list of event names\u001b[0m\u001b[1;33m\u001b[0m\u001b[1;33m\u001b[0m\u001b[0m\n",
      "\u001b[1;31mNameError\u001b[0m: name 'v1' is not defined"
     ]
    }
   ],
   "source": [
    "import random\n",
    "from guildwars2api.client import GuildWars2API\n",
    "\n",
    "api = GuildWars2API(api_version=v1)\n",
    "\n",
    "# Get the list of event names\n",
    "event_names = api.event_names.get(lang=\"en\")\n",
    "print(\"event names\", len(event_names))\n",
    "\n",
    "# Turn it into a dict\n",
    "event_name_lookup = dict((e['id'], e['name']) for e in event_names)\n",
    "\n",
    "# Get a random event, find out it's name, and add it to the event\n",
    "event = random.choice(events)\n",
    "event['event_name'] = event_name_lookup.get(event['event_id'], None)\n",
    "print(\"event\", event)\n",
    "\n",
    "# Get the list of matches\n",
    "matches = api.matches.get()\n",
    "print(\"matches\", len(matches))\n",
    "\n",
    "# Get the details for a random match\n",
    "match_details = api.match_details.get(random.choice(matches)['wvw_match_id'])\n",
    "print(\"match details\", match_details)\n",
    "\n",
    "api = GuildWars2API(api_version=v2)\n",
    "\n",
    "# Get the details of a tasks on a map using the continent_id, floor_id, region_id, map_id and task_id\n",
    "tasks = api.continents.floors.regions.maps.tasks.get(1, 1, 1, 26, 554)"
   ]
  },
  {
   "cell_type": "code",
   "execution_count": null,
   "metadata": {
    "collapsed": true
   },
   "outputs": [],
   "source": []
  }
 ],
 "metadata": {
  "kernelspec": {
   "display_name": "Python 3",
   "language": "python",
   "name": "python3"
  },
  "language_info": {
   "codemirror_mode": {
    "name": "ipython",
    "version": 3
   },
   "file_extension": ".py",
   "mimetype": "text/x-python",
   "name": "python",
   "nbconvert_exporter": "python",
   "pygments_lexer": "ipython3",
   "version": "3.4.3"
  }
 },
 "nbformat": 4,
 "nbformat_minor": 0
}
