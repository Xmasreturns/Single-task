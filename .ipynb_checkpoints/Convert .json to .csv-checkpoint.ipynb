{
 "cells": [
  {
   "cell_type": "code",
   "execution_count": 1,
   "metadata": {
    "collapsed": false
   },
   "outputs": [
    {
     "data": {
      "text/html": [
       "<div>\n",
       "<table border=\"1\" class=\"dataframe\">\n",
       "  <thead>\n",
       "    <tr style=\"text-align: right;\">\n",
       "      <th></th>\n",
       "      <th>image_name</th>\n",
       "      <th>text_images</th>\n",
       "    </tr>\n",
       "  </thead>\n",
       "  <tbody>\n",
       "    <tr>\n",
       "      <th>0</th>\n",
       "      <td>0.png</td>\n",
       "      <td>[https://s3-us-west-2.amazonaws.com/ai2-vision...</td>\n",
       "    </tr>\n",
       "    <tr>\n",
       "      <th>1</th>\n",
       "      <td>1.png</td>\n",
       "      <td>[https://s3-us-west-2.amazonaws.com/ai2-vision...</td>\n",
       "    </tr>\n",
       "    <tr>\n",
       "      <th>2</th>\n",
       "      <td>10.png</td>\n",
       "      <td>[https://s3-us-west-2.amazonaws.com/ai2-vision...</td>\n",
       "    </tr>\n",
       "    <tr>\n",
       "      <th>3</th>\n",
       "      <td>100.png</td>\n",
       "      <td>[https://s3-us-west-2.amazonaws.com/ai2-vision...</td>\n",
       "    </tr>\n",
       "    <tr>\n",
       "      <th>4</th>\n",
       "      <td>1000.png</td>\n",
       "      <td>[https://s3-us-west-2.amazonaws.com/ai2-vision...</td>\n",
       "    </tr>\n",
       "  </tbody>\n",
       "</table>\n",
       "</div>"
      ],
      "text/plain": [
       "  image_name                                        text_images\n",
       "0      0.png  [https://s3-us-west-2.amazonaws.com/ai2-vision...\n",
       "1      1.png  [https://s3-us-west-2.amazonaws.com/ai2-vision...\n",
       "2     10.png  [https://s3-us-west-2.amazonaws.com/ai2-vision...\n",
       "3    100.png  [https://s3-us-west-2.amazonaws.com/ai2-vision...\n",
       "4   1000.png  [https://s3-us-west-2.amazonaws.com/ai2-vision..."
      ]
     },
     "execution_count": 1,
     "metadata": {},
     "output_type": "execute_result"
    }
   ],
   "source": [
    "import numpy as np\n",
    "import pandas as pd\n",
    "from pandas import Series, DataFrame\n",
    "\n",
    "df = pd.read_json('data.json')\n",
    "df.head()"
   ]
  },
  {
   "cell_type": "code",
   "execution_count": 2,
   "metadata": {
    "collapsed": false
   },
   "outputs": [
    {
     "data": {
      "text/plain": [
       "['https://s3-us-west-2.amazonaws.com/ai2-vision/example-turk/0.png-0.png',\n",
       " 'https://s3-us-west-2.amazonaws.com/ai2-vision/example-turk/0.png-1.png',\n",
       " 'https://s3-us-west-2.amazonaws.com/ai2-vision/example-turk/0.png-2.png',\n",
       " 'https://s3-us-west-2.amazonaws.com/ai2-vision/example-turk/0.png-3.png',\n",
       " 'https://s3-us-west-2.amazonaws.com/ai2-vision/example-turk/0.png-4.png',\n",
       " 'https://s3-us-west-2.amazonaws.com/ai2-vision/example-turk/0.png-5.png']"
      ]
     },
     "execution_count": 2,
     "metadata": {},
     "output_type": "execute_result"
    }
   ],
   "source": [
    "df['text_images'][0]"
   ]
  },
  {
   "cell_type": "code",
   "execution_count": 3,
   "metadata": {
    "collapsed": false
   },
   "outputs": [],
   "source": [
    "# Determine number of output rows\n",
    "df_length = 0\n",
    "\n",
    "for row in range(0, df['text_images']):\n",
    "    for url in range(0, df['text_images'][row]):\n",
    "        df_length += 1"
   ]
  },
  {
   "cell_type": "code",
   "execution_count": 4,
   "metadata": {
    "collapsed": false,
    "scrolled": true
   },
   "outputs": [],
   "source": [
    "# Create output df\n",
    "output_df = DataFrame(np.zeros(df_length*2).reshape(df_length,2))\n",
    "output_df.columns = ['image_name', 'image_url']\n",
    "\n",
    "# Populate output df\n",
    "output_row = 0\n",
    "for df_row in range(0, len(df['text_images'])):\n",
    "    for url_index in range(0, len(df['text_images'][df_row])):\n",
    "        output_df.loc[output_row,'image_url'] = df['text_images'][df_row][url_index]\n",
    "        output_df.loc[output_row,'image_name'] = df['image_name'][df_row]\n",
    "        output_row += 1"
   ]
  },
  {
   "cell_type": "code",
   "execution_count": 5,
   "metadata": {
    "collapsed": false,
    "scrolled": true
   },
   "outputs": [
    {
     "name": "stdout",
     "output_type": "stream",
     "text": [
      "  image_name                                          image_url\n",
      "0      0.png  https://s3-us-west-2.amazonaws.com/ai2-vision/...\n",
      "1      0.png  https://s3-us-west-2.amazonaws.com/ai2-vision/...\n",
      "2      0.png  https://s3-us-west-2.amazonaws.com/ai2-vision/...\n",
      "3      0.png  https://s3-us-west-2.amazonaws.com/ai2-vision/...\n",
      "4      0.png  https://s3-us-west-2.amazonaws.com/ai2-vision/...\n",
      "   image_name                                          image_url\n",
      "20   1000.png  https://s3-us-west-2.amazonaws.com/ai2-vision/...\n",
      "21   1000.png  https://s3-us-west-2.amazonaws.com/ai2-vision/...\n",
      "22   1001.png  https://s3-us-west-2.amazonaws.com/ai2-vision/...\n",
      "23   1001.png  https://s3-us-west-2.amazonaws.com/ai2-vision/...\n",
      "24   1001.png  https://s3-us-west-2.amazonaws.com/ai2-vision/...\n"
     ]
    }
   ],
   "source": [
    "print(output_df.head())\n",
    "print(output_df.tail())"
   ]
  },
  {
   "cell_type": "code",
   "execution_count": 6,
   "metadata": {
    "collapsed": false
   },
   "outputs": [],
   "source": [
    "output_df.to_csv('output_df.csv', index=False)"
   ]
  },
  {
   "cell_type": "code",
   "execution_count": null,
   "metadata": {
    "collapsed": true
   },
   "outputs": [],
   "source": []
  }
 ],
 "metadata": {
  "kernelspec": {
   "display_name": "Python 3",
   "language": "python",
   "name": "python3"
  },
  "language_info": {
   "codemirror_mode": {
    "name": "ipython",
    "version": 3
   },
   "file_extension": ".py",
   "mimetype": "text/x-python",
   "name": "python",
   "nbconvert_exporter": "python",
   "pygments_lexer": "ipython3",
   "version": "3.4.4"
  }
 },
 "nbformat": 4,
 "nbformat_minor": 0
}
