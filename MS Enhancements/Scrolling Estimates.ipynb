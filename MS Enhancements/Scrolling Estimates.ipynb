{
 "cells": [
  {
   "cell_type": "code",
   "execution_count": 1,
   "metadata": {
    "collapsed": false
   },
   "outputs": [],
   "source": [
    "\"\"\"This script is meant to calculate estimated cost and likelihood of \n",
    "enhancing items with assumed success rates and failure rates.\n",
    "The method will be to run a simulation and return plots\n",
    "of expected results. This script will use rates for ilevel 150.\"\"\"\n",
    "\n",
    "import numpy as np\n",
    "import pandas as pd\n",
    "from pandas import Series, DataFrame\n",
    "import matplotlib.pyplot as plt\n",
    "%matplotlib inline\n",
    "import seaborn as sns\n",
    "from __future__ import division\n",
    "from numpy.random import rand\n",
    "\n",
    "# Uploaded to github 8/7/15\n",
    "#Optionally use the user inputs\n",
    "#print 'Enhancement costs are for level 150 equips'\n",
    "#superior = raw_input('Is the item superior? (Yes/No) ')\n",
    "#enhance_to = raw_input('Enhancing to how many stars? ')\n",
    "#trials = raw_input('How many trials per star? ')"
   ]
  },
  {
   "cell_type": "code",
   "execution_count": 2,
   "metadata": {
    "collapsed": false
   },
   "outputs": [],
   "source": [
    "enh_rates = pd.read_csv('EnhancementRates.csv')"
   ]
  },
  {
   "cell_type": "code",
   "execution_count": 3,
   "metadata": {
    "collapsed": false
   },
   "outputs": [],
   "source": [
    "enh_rates['Success%'] = enh_rates['Success rate']/100\n",
    "enh_rates['Fail_stay%'] = enh_rates['Failure (stay)']/100\n",
    "enh_rates['Fail_dec%'] = enh_rates['Failure (decrease)']/100\n",
    "enh_rates['Fail_boom%'] = enh_rates['Failure (boom)']/100"
   ]
  },
  {
   "cell_type": "code",
   "execution_count": 4,
   "metadata": {
    "collapsed": false,
    "scrolled": true
   },
   "outputs": [
    {
     "data": {
      "text/html": [
       "<div>\n",
       "<table border=\"1\" class=\"dataframe\">\n",
       "  <thead>\n",
       "    <tr style=\"text-align: right;\">\n",
       "      <th></th>\n",
       "      <th>Stars</th>\n",
       "      <th>Success rate</th>\n",
       "      <th>Failure (stay)</th>\n",
       "      <th>Failure (decrease)</th>\n",
       "      <th>Failure (boom)</th>\n",
       "      <th>Superior</th>\n",
       "      <th>Cost</th>\n",
       "      <th>Region</th>\n",
       "      <th>Success%</th>\n",
       "      <th>Fail_stay%</th>\n",
       "      <th>Fail_dec%</th>\n",
       "      <th>Fail_boom%</th>\n",
       "    </tr>\n",
       "  </thead>\n",
       "  <tbody>\n",
       "    <tr>\n",
       "      <th>0</th>\n",
       "      <td>0</td>\n",
       "      <td>95</td>\n",
       "      <td>5</td>\n",
       "      <td>0</td>\n",
       "      <td>0</td>\n",
       "      <td>no</td>\n",
       "      <td>136000</td>\n",
       "      <td>EU</td>\n",
       "      <td>0.95</td>\n",
       "      <td>0.05</td>\n",
       "      <td>0</td>\n",
       "      <td>0</td>\n",
       "    </tr>\n",
       "    <tr>\n",
       "      <th>1</th>\n",
       "      <td>1</td>\n",
       "      <td>90</td>\n",
       "      <td>10</td>\n",
       "      <td>0</td>\n",
       "      <td>0</td>\n",
       "      <td>no</td>\n",
       "      <td>271000</td>\n",
       "      <td>EU</td>\n",
       "      <td>0.90</td>\n",
       "      <td>0.10</td>\n",
       "      <td>0</td>\n",
       "      <td>0</td>\n",
       "    </tr>\n",
       "    <tr>\n",
       "      <th>2</th>\n",
       "      <td>2</td>\n",
       "      <td>85</td>\n",
       "      <td>15</td>\n",
       "      <td>0</td>\n",
       "      <td>0</td>\n",
       "      <td>no</td>\n",
       "      <td>406000</td>\n",
       "      <td>EU</td>\n",
       "      <td>0.85</td>\n",
       "      <td>0.15</td>\n",
       "      <td>0</td>\n",
       "      <td>0</td>\n",
       "    </tr>\n",
       "    <tr>\n",
       "      <th>3</th>\n",
       "      <td>3</td>\n",
       "      <td>85</td>\n",
       "      <td>15</td>\n",
       "      <td>0</td>\n",
       "      <td>0</td>\n",
       "      <td>no</td>\n",
       "      <td>541000</td>\n",
       "      <td>EU</td>\n",
       "      <td>0.85</td>\n",
       "      <td>0.15</td>\n",
       "      <td>0</td>\n",
       "      <td>0</td>\n",
       "    </tr>\n",
       "    <tr>\n",
       "      <th>4</th>\n",
       "      <td>4</td>\n",
       "      <td>80</td>\n",
       "      <td>20</td>\n",
       "      <td>0</td>\n",
       "      <td>0</td>\n",
       "      <td>no</td>\n",
       "      <td>676000</td>\n",
       "      <td>EU</td>\n",
       "      <td>0.80</td>\n",
       "      <td>0.20</td>\n",
       "      <td>0</td>\n",
       "      <td>0</td>\n",
       "    </tr>\n",
       "  </tbody>\n",
       "</table>\n",
       "</div>"
      ],
      "text/plain": [
       "   Stars  Success rate  Failure (stay)  Failure (decrease)  Failure (boom)  \\\n",
       "0      0            95               5                   0               0   \n",
       "1      1            90              10                   0               0   \n",
       "2      2            85              15                   0               0   \n",
       "3      3            85              15                   0               0   \n",
       "4      4            80              20                   0               0   \n",
       "\n",
       "  Superior    Cost Region  Success%  Fail_stay%  Fail_dec%  Fail_boom%  \n",
       "0       no  136000     EU      0.95        0.05          0           0  \n",
       "1       no  271000     EU      0.90        0.10          0           0  \n",
       "2       no  406000     EU      0.85        0.15          0           0  \n",
       "3       no  541000     EU      0.85        0.15          0           0  \n",
       "4       no  676000     EU      0.80        0.20          0           0  "
      ]
     },
     "execution_count": 4,
     "metadata": {},
     "output_type": "execute_result"
    }
   ],
   "source": [
    "enh_rates.head()"
   ]
  },
  {
   "cell_type": "code",
   "execution_count": 5,
   "metadata": {
    "collapsed": false
   },
   "outputs": [],
   "source": [
    "def create_trials_table(trials,superior,enhance_to,enh_rates,region):\n",
    "    results = DataFrame(index=np.arange(trials),columns=['Trial','Cost','Stars','Status'])\n",
    "    for trial in range(trials):\n",
    "        stars = 0\n",
    "        total_cost = 0\n",
    "        free_pass = 0\n",
    "        status = 'Exists'\n",
    "        while (stars < enhance_to):\n",
    "            random = rand()\n",
    "            row = enh_rates.loc[(enh_rates['Stars'] == stars) & (enh_rates['Superior'] == superior) & (enh_rates['Region'] == region)]\n",
    "            success_pct = row['Success%'][row.index[0]]\n",
    "            fail_stay_pct = row['Fail_stay%'][row.index[0]] + success_pct\n",
    "            fail_dec_pct = row['Fail_dec%'][row.index[0]] + fail_stay_pct\n",
    "            fail_boom_pct = row['Fail_boom%'][row.index[0]] + fail_dec_pct\n",
    "            cost = row['Cost'][row.index[0]]\n",
    "        \n",
    "            if (random <= success_pct) or (free_pass == 2): #If two fails in a row decrease stars, next is always success\n",
    "                stars += 1\n",
    "                free_pass = 0\n",
    "            elif random <= fail_stay_pct:\n",
    "                free_pass = 0\n",
    "            elif random <= fail_dec_pct:\n",
    "                stars -= 1\n",
    "                free_pass += 1\n",
    "            else:\n",
    "                status = 'Destroyed'\n",
    "                free_pass = 0\n",
    "                break\n",
    "            total_cost+= cost        \n",
    "       \n",
    "        results.loc[trial] = [trial, total_cost, stars, status]\n",
    "    return results"
   ]
  },
  {
   "cell_type": "code",
   "execution_count": 7,
   "metadata": {
    "collapsed": false
   },
   "outputs": [
    {
     "name": "stdout",
     "output_type": "stream",
     "text": [
      "0:06:59.747000\n"
     ]
    }
   ],
   "source": [
    "superior = 'yes'\n",
    "trials = 500\n",
    "enhance_to = 10\n",
    "region = 'GMS'\n",
    "dictCreate = True\n",
    "\n",
    "import datetime # Time it\n",
    "startTime = datetime.datetime.now()\n",
    "\n",
    "# Create a list to make cleaning easier; will include results for stars up to enhance_to\n",
    "allData = []\n",
    "columnData = {}\n",
    "for i in range(0,enhance_to):\n",
    "    allData.append(create_trials_table(trials,superior,i+1,enh_rates,region))\n",
    "    if (dictCreate):\n",
    "        for j in range(0,allData[i].shape[1]): # For each column in the current allData list entry\n",
    "            colName = allData[i].columns[j] # Save the column name for use as key\n",
    "            if colName not in columnData.keys(): # Initialize lists in dict if not already done\n",
    "                columnData[colName] = []\n",
    "            columnData[colName].append(allData[i][colName]) # Add column to entry in dict\n",
    "\n",
    "endTime = datetime.datetime.now()\n",
    "print endTime-startTime"
   ]
  },
  {
   "cell_type": "code",
   "execution_count": 8,
   "metadata": {
    "collapsed": false
   },
   "outputs": [
    {
     "data": {
      "text/plain": [
       "<matplotlib.axes._subplots.AxesSubplot at 0x1f100668>"
      ]
     },
     "execution_count": 8,
     "metadata": {},
     "output_type": "execute_result"
    },
    {
     "data": {
      "image/png": "[encoded data removed]",
      "text/plain": [
       "<matplotlib.figure.Figure at 0x1efeedd8>"
      ]
     },
     "metadata": {},
     "output_type": "display_data"
    }
   ],
   "source": [
    "# Take a look at total cost distribution\n",
    "sns.stripplot(data=columnData['Cost'], palette='GnBu_d',jitter=True)"
   ]
  },
  {
   "cell_type": "code",
   "execution_count": 9,
   "metadata": {
    "collapsed": false
   },
   "outputs": [
    {
     "data": {
      "image/png": "[encoded data removed]",
      "text/plain": [
       "<matplotlib.figure.Figure at 0x1f2e4908>"
      ]
     },
     "metadata": {},
     "output_type": "display_data"
    }
   ],
   "source": [
    "# Alternative visualization with a boxplot\n",
    "BoxPlot = sns.boxplot(data=columnData['Cost'], palette='GnBu_d')"
   ]
  },
  {
   "cell_type": "code",
   "execution_count": 10,
   "metadata": {
    "collapsed": false,
    "scrolled": true
   },
   "outputs": [],
   "source": [
    "# Want to look at distribution of destroyed equipment, so pull the status data\n",
    "statuses = DataFrame(columnData['Status']).transpose()\n",
    "new_col_names = []\n",
    "for j in range(0,statuses.shape[1]): #iterate over columns\n",
    "    new_col_names.append('Status ' + str(j+1))\n",
    "statuses.columns = new_col_names"
   ]
  },
  {
   "cell_type": "code",
   "execution_count": 11,
   "metadata": {
    "collapsed": false
   },
   "outputs": [
    {
     "data": {
      "text/html": [
       "<div>\n",
       "<table border=\"1\" class=\"dataframe\">\n",
       "  <thead>\n",
       "    <tr style=\"text-align: right;\">\n",
       "      <th></th>\n",
       "      <th>Status 1</th>\n",
       "      <th>Status 2</th>\n",
       "      <th>Status 3</th>\n",
       "      <th>Status 4</th>\n",
       "      <th>Status 5</th>\n",
       "      <th>Status 6</th>\n",
       "      <th>Status 7</th>\n",
       "      <th>Status 8</th>\n",
       "      <th>Status 9</th>\n",
       "      <th>Status 10</th>\n",
       "    </tr>\n",
       "  </thead>\n",
       "  <tbody>\n",
       "    <tr>\n",
       "      <th>0</th>\n",
       "      <td>Exists</td>\n",
       "      <td>Exists</td>\n",
       "      <td>Exists</td>\n",
       "      <td>Exists</td>\n",
       "      <td>Exists</td>\n",
       "      <td>Exists</td>\n",
       "      <td>Exists</td>\n",
       "      <td>Exists</td>\n",
       "      <td>Exists</td>\n",
       "      <td>Destroyed</td>\n",
       "    </tr>\n",
       "    <tr>\n",
       "      <th>1</th>\n",
       "      <td>Exists</td>\n",
       "      <td>Exists</td>\n",
       "      <td>Exists</td>\n",
       "      <td>Exists</td>\n",
       "      <td>Exists</td>\n",
       "      <td>Destroyed</td>\n",
       "      <td>Exists</td>\n",
       "      <td>Exists</td>\n",
       "      <td>Destroyed</td>\n",
       "      <td>Exists</td>\n",
       "    </tr>\n",
       "    <tr>\n",
       "      <th>2</th>\n",
       "      <td>Exists</td>\n",
       "      <td>Exists</td>\n",
       "      <td>Exists</td>\n",
       "      <td>Exists</td>\n",
       "      <td>Exists</td>\n",
       "      <td>Exists</td>\n",
       "      <td>Exists</td>\n",
       "      <td>Destroyed</td>\n",
       "      <td>Exists</td>\n",
       "      <td>Destroyed</td>\n",
       "    </tr>\n",
       "    <tr>\n",
       "      <th>3</th>\n",
       "      <td>Exists</td>\n",
       "      <td>Exists</td>\n",
       "      <td>Exists</td>\n",
       "      <td>Exists</td>\n",
       "      <td>Exists</td>\n",
       "      <td>Exists</td>\n",
       "      <td>Exists</td>\n",
       "      <td>Exists</td>\n",
       "      <td>Exists</td>\n",
       "      <td>Destroyed</td>\n",
       "    </tr>\n",
       "    <tr>\n",
       "      <th>4</th>\n",
       "      <td>Exists</td>\n",
       "      <td>Exists</td>\n",
       "      <td>Exists</td>\n",
       "      <td>Exists</td>\n",
       "      <td>Exists</td>\n",
       "      <td>Exists</td>\n",
       "      <td>Exists</td>\n",
       "      <td>Exists</td>\n",
       "      <td>Destroyed</td>\n",
       "      <td>Destroyed</td>\n",
       "    </tr>\n",
       "  </tbody>\n",
       "</table>\n",
       "</div>"
      ],
      "text/plain": [
       "  Status 1 Status 2 Status 3 Status 4 Status 5   Status 6 Status 7   Status 8  \\\n",
       "0   Exists   Exists   Exists   Exists   Exists     Exists   Exists     Exists   \n",
       "1   Exists   Exists   Exists   Exists   Exists  Destroyed   Exists     Exists   \n",
       "2   Exists   Exists   Exists   Exists   Exists     Exists   Exists  Destroyed   \n",
       "3   Exists   Exists   Exists   Exists   Exists     Exists   Exists     Exists   \n",
       "4   Exists   Exists   Exists   Exists   Exists     Exists   Exists     Exists   \n",
       "\n",
       "    Status 9  Status 10  \n",
       "0     Exists  Destroyed  \n",
       "1  Destroyed     Exists  \n",
       "2     Exists  Destroyed  \n",
       "3     Exists  Destroyed  \n",
       "4  Destroyed  Destroyed  "
      ]
     },
     "execution_count": 11,
     "metadata": {},
     "output_type": "execute_result"
    }
   ],
   "source": [
    "statuses.head()"
   ]
  },
  {
   "cell_type": "code",
   "execution_count": 12,
   "metadata": {
    "collapsed": false
   },
   "outputs": [
    {
     "data": {
      "text/html": [
       "<div>\n",
       "<table border=\"1\" class=\"dataframe\">\n",
       "  <thead>\n",
       "    <tr style=\"text-align: right;\">\n",
       "      <th></th>\n",
       "      <th>0</th>\n",
       "      <th>1</th>\n",
       "      <th>2</th>\n",
       "      <th>3</th>\n",
       "      <th>4</th>\n",
       "      <th>5</th>\n",
       "      <th>6</th>\n",
       "      <th>7</th>\n",
       "      <th>8</th>\n",
       "      <th>9</th>\n",
       "    </tr>\n",
       "  </thead>\n",
       "  <tbody>\n",
       "    <tr>\n",
       "      <th>Destroyed</th>\n",
       "      <td>0</td>\n",
       "      <td>0</td>\n",
       "      <td>0</td>\n",
       "      <td>0</td>\n",
       "      <td>0</td>\n",
       "      <td>30</td>\n",
       "      <td>75</td>\n",
       "      <td>174</td>\n",
       "      <td>234</td>\n",
       "      <td>341</td>\n",
       "    </tr>\n",
       "    <tr>\n",
       "      <th>Exists</th>\n",
       "      <td>500</td>\n",
       "      <td>500</td>\n",
       "      <td>500</td>\n",
       "      <td>500</td>\n",
       "      <td>500</td>\n",
       "      <td>470</td>\n",
       "      <td>425</td>\n",
       "      <td>326</td>\n",
       "      <td>266</td>\n",
       "      <td>159</td>\n",
       "    </tr>\n",
       "  </tbody>\n",
       "</table>\n",
       "</div>"
      ],
      "text/plain": [
       "             0    1    2    3    4    5    6    7    8    9\n",
       "Destroyed    0    0    0    0    0   30   75  174  234  341\n",
       "Exists     500  500  500  500  500  470  425  326  266  159"
      ]
     },
     "execution_count": 12,
     "metadata": {},
     "output_type": "execute_result"
    }
   ],
   "source": [
    "# Create a df with value counts\n",
    "status_df = []\n",
    "for j in range(0,statuses.shape[1]):\n",
    "    status_df.append(statuses['Status ' + str(j+1)].value_counts())\n",
    "status_df = DataFrame(status_df).transpose()\n",
    "status_df.fillna(0)"
   ]
  },
  {
   "cell_type": "code",
   "execution_count": 13,
   "metadata": {
    "collapsed": true
   },
   "outputs": [],
   "source": [
    "# Rename for clarity in new df\n",
    "new_col_names = []\n",
    "for j in range(0,status_df.shape[1]): #iterate over columns\n",
    "    new_col_names.append(str(j+1) + ' stars')\n",
    "status_df.columns = new_col_names"
   ]
  },
  {
   "cell_type": "code",
   "execution_count": 14,
   "metadata": {
    "collapsed": false
   },
   "outputs": [
    {
     "data": {
      "text/plain": [
       "<matplotlib.axes._subplots.AxesSubplot at 0x1f0d0a90>"
      ]
     },
     "execution_count": 14,
     "metadata": {},
     "output_type": "execute_result"
    },
    {
     "data": {
      "image/png": "[encoded data removed]",
      "text/plain": [
       "<matplotlib.figure.Figure at 0x1f81b940>"
      ]
     },
     "metadata": {},
     "output_type": "display_data"
    }
   ],
   "source": [
    "status_df.transpose().plot(kind='bar',figsize=(10,5),cmap='Set3')"
   ]
  },
  {
   "cell_type": "code",
   "execution_count": null,
   "metadata": {
    "collapsed": true
   },
   "outputs": [],
   "source": []
  },
  {
   "cell_type": "code",
   "execution_count": null,
   "metadata": {
    "collapsed": true
   },
   "outputs": [],
   "source": []
  }
 ],
 "metadata": {
  "kernelspec": {
   "display_name": "Python 2",
   "language": "python",
   "name": "python2"
  },
  "language_info": {
   "codemirror_mode": {
    "name": "ipython",
    "version": 2
   },
   "file_extension": ".py",
   "mimetype": "text/x-python",
   "name": "python",
   "nbconvert_exporter": "python",
   "pygments_lexer": "ipython2",
   "version": "2.7.10"
  }
 },
 "nbformat": 4,
 "nbformat_minor": 0
}
